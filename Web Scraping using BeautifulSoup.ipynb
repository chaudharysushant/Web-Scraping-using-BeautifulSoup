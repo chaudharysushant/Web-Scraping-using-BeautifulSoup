{
 "cells": [
  {
   "cell_type": "code",
   "execution_count": null,
   "id": "facbef01",
   "metadata": {},
   "outputs": [],
   "source": [
    "# Import the 'requests' library for making HTTP requests\n",
    "import requests"
   ]
  },
  {
   "cell_type": "code",
   "execution_count": null,
   "id": "b3c7dcbe",
   "metadata": {},
   "outputs": [],
   "source": [
    "# Import the 'BeautifulSoup' class from the 'bs4' module for web scraping\n",
    "from bs4 import BeautifulSoup"
   ]
  },
  {
   "cell_type": "code",
   "execution_count": null,
   "id": "412f0852",
   "metadata": {},
   "outputs": [],
   "source": [
    "# Import the 'csv' module for working with CSV files\n",
    "import csv"
   ]
  },
  {
   "cell_type": "code",
   "execution_count": null,
   "id": "d2d02dc6",
   "metadata": {},
   "outputs": [],
   "source": [
    "def practitioner_details(nmc_no):\n",
    "  url = f'example.com{sn}' # url of website you want to fetch data from\n",
    "  response = requests.get(url) # Make an HTTP request to the website\n",
    "\n",
    "  if response.status_code == 200:\n",
    "    soup = BeautifulSoup(response.text, 'html.parser')\n",
    "    practitioner_name = soup.find_all('td')[1].text.strip() # Extract the practitioner's name from the second table cell\n",
    "    return practitioner_name\n",
    "  else:\n",
    "    return None"
   ]
  },
  {
   "cell_type": "code",
   "execution_count": null,
   "id": "6e7941a5",
   "metadata": {},
   "outputs": [],
   "source": [
    "with open('practitioners.csv', 'w', newline='') as csvfile: # Open 'practitioners.csv' file in write mode ('w') with newline=''\n",
    "  fieldnames = ['NMC Number', 'Practitioner Name']\n",
    "  writer = csv.DictWriter(csvfile, fieldnames=fieldnames)  # Create a CSV DictWriter object with specified fieldnames\n",
    "  writer.writeheader()\n",
    "\n",
    "  while True:\n",
    "    nmc_no = input(\"Enter NMC number. (Press 'q' to quit): \")\n",
    "    if nmc_no.lower() == 'q':\n",
    "      break\n",
    "\n",
    "    result = practitioner_details(nmc_no)\n",
    "    if result:\n",
    "      writer.writerow({'NMC Number': nmc_no, 'Practitioner Name': result})\n",
    "      print(f\"Name: {result}\")\n",
    "    else:\n",
    "      print(\"No data found.\")"
   ]
  }
 ],
 "metadata": {
  "kernelspec": {
   "display_name": "Python 3 (ipykernel)",
   "language": "python",
   "name": "python3"
  },
  "language_info": {
   "codemirror_mode": {
    "name": "ipython",
    "version": 3
   },
   "file_extension": ".py",
   "mimetype": "text/x-python",
   "name": "python",
   "nbconvert_exporter": "python",
   "pygments_lexer": "ipython3",
   "version": "3.11.5"
  }
 },
 "nbformat": 4,
 "nbformat_minor": 5
}
